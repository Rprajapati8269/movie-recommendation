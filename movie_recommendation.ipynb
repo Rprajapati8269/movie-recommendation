{
  "nbformat": 4,
  "nbformat_minor": 0,
  "metadata": {
    "colab": {
      "provenance": []
    },
    "kernelspec": {
      "name": "python3",
      "display_name": "Python 3"
    },
    "language_info": {
      "name": "python"
    }
  },
  "cells": [
    {
      "cell_type": "markdown",
      "source": [
        "Loading the dataset"
      ],
      "metadata": {
        "id": "xgIgVsndRYUd"
      }
    },
    {
      "cell_type": "code",
      "execution_count": null,
      "metadata": {
        "id": "MChjMVaI5PPE"
      },
      "outputs": [],
      "source": [
        "import pandas as pd\n",
        "import numpy as np\n"
      ]
    },
    {
      "cell_type": "code",
      "source": [
        "\n",
        "data = pd.read_csv('/content/drive/MyDrive/movie/movies_data.csv')\n",
        "data\n"
      ],
      "metadata": {
        "id": "AXgffEW28iUq"
      },
      "execution_count": null,
      "outputs": []
    },
    {
      "cell_type": "code",
      "source": [
        "print(data.columns)"
      ],
      "metadata": {
        "colab": {
          "base_uri": "https://localhost:8080/"
        },
        "id": "A8Russvq-VDk",
        "outputId": "2dba66ce-43d0-4a44-c91a-6eca300f7ebe"
      },
      "execution_count": null,
      "outputs": [
        {
          "output_type": "stream",
          "name": "stdout",
          "text": [
            "Index(['Name', 'Year', 'Duration', 'Genre', 'Rating', 'Votes', 'Director',\n",
            "       'Actor 1', 'Actor 2', 'Actor 3'],\n",
            "      dtype='object')\n"
          ]
        }
      ]
    },
    {
      "cell_type": "code",
      "source": [
        "import pandas as pd\n",
        "\n",
        "\n",
        "data = pd.read_csv('/content/drive/MyDrive/movie/movies_data.csv')\n",
        "\n",
        "\n",
        "data.dropna(inplace=True)\n",
        "data.drop_duplicates(inplace=True)\n",
        "\n",
        "\n",
        "data = pd.get_dummies(data, columns=['Genre'], prefix='genre', drop_first=True)\n",
        "\n",
        "\n",
        "data['Year'] = data['Year'].astype(int)\n",
        "\n",
        "\n",
        "print(data.head())\n",
        "\n",
        "\n",
        "data.to_csv('preprocessed_movies_data.csv', index=False)\n"
      ],
      "metadata": {
        "id": "7oE3CeN89Z1a"
      },
      "execution_count": null,
      "outputs": []
    },
    {
      "cell_type": "markdown",
      "source": [
        "Splitting train and test"
      ],
      "metadata": {
        "id": "oTUTEu4UUfSi"
      }
    },
    {
      "cell_type": "code",
      "source": [
        "from sklearn.model_selection import train_test_split\n",
        "\n",
        "\n",
        "data = pd.read_csv('preprocessed_movies_data.csv')\n",
        "\n",
        "\n",
        "X = data.drop('Rating', axis=1)\n",
        "y = data['Rating']\n",
        "\n",
        "\n",
        "X_train, X_test, y_train, y_test = train_test_split(X, y, test_size=0.2, random_state=42)\n",
        "\n",
        "\n",
        "\n",
        "\n",
        "print(\"Training set shape:\", X_train.shape, y_train.shape)\n",
        "print(\"Testing set shape:\", X_test.shape, y_test.shape)\n",
        "\n",
        "\n",
        "# X_train.to_csv('X_train.csv', index=False)\n",
        "# X_test.to_csv('X_test.csv', index=False)\n",
        "# y_train.to_csv('y_train.csv', index=False)\n",
        "# y_test.to_csv('y_test.csv', index=False)\n"
      ],
      "metadata": {
        "colab": {
          "base_uri": "https://localhost:8080/"
        },
        "id": "Xx9n-xjn_Maz",
        "outputId": "efe4c71f-92a7-4e7c-ac85-d35fd89efb52"
      },
      "execution_count": null,
      "outputs": [
        {
          "output_type": "stream",
          "name": "stdout",
          "text": [
            "Training set shape: (4527, 383) (4527,)\n",
            "Testing set shape: (1132, 383) (1132,)\n"
          ]
        }
      ]
    },
    {
      "cell_type": "markdown",
      "source": [
        "Using knn model"
      ],
      "metadata": {
        "id": "6vnmxUezUl0P"
      }
    },
    {
      "cell_type": "code",
      "source": [
        "import pandas as pd\n",
        "from sklearn.neighbors import NearestNeighbors\n",
        "\n",
        "\n",
        "data = pd.read_csv('preprocessed_movies_data.csv')\n",
        "\n",
        "\n",
        "desired_year = int(input(\"Enter the desired year: \"))\n",
        "min_rating = float(input(\"Enter the minimum rating you prefer (e.g., 5.0): \"))\n",
        "\n",
        "\n",
        "filtered_movies = data[(data['Year'] == desired_year) & (data['Rating'] >= min_rating)]\n",
        "\n",
        "if not filtered_movies.empty:\n",
        "\n",
        "    X = filtered_movies[['Year', 'Rating']]\n",
        "\n",
        "\n",
        "    num_neighbors = 5\n",
        "    knn = NearestNeighbors(n_neighbors=num_neighbors)\n",
        "\n",
        "\n",
        "    knn.fit(X)\n",
        "\n",
        "\n",
        "    _, indices = knn.kneighbors([[desired_year, min_rating]])\n",
        "\n",
        "\n",
        "    indices = indices.flatten()\n",
        "\n",
        "\n",
        "    #print(f\"Recommended Movies in {desired_year} with a minimum rating of {min_rating} (in descending order of rating):\")\n",
        "    sorted_indices = sorted(indices, key=lambda idx: -filtered_movies.iloc[idx]['Rating'])  # Sort in descending order\n",
        "    for idx in sorted_indices:\n",
        "        print(f\"{filtered_movies.iloc[idx]['Name']} (Rating: {filtered_movies.iloc[idx]['Rating']})\")\n",
        "else:\n",
        "    print(\"No movies found matching your criteria.\")\n"
      ],
      "metadata": {
        "id": "TP5_hPqoLl8b"
      },
      "execution_count": null,
      "outputs": []
    },
    {
      "cell_type": "markdown",
      "source": [
        "calculating mean absolute error"
      ],
      "metadata": {
        "id": "KANVtaBBUuKn"
      }
    },
    {
      "cell_type": "code",
      "source": [
        "import pandas as pd\n",
        "from sklearn.metrics import mean_absolute_error\n",
        "\n",
        "\n",
        "data = pd.read_csv('preprocessed_movies_data.csv')\n",
        "\n",
        "\n",
        "desired_year = int(input(\"Enter the desired year: \"))\n",
        "min_rating = float(input(\"Enter the minimum rating you prefer (e.g., 5.0): \"))\n",
        "\n",
        "filtered_movies = data[(data['Year'] == desired_year) & (data['Rating'] >= min_rating)]\n",
        "\n",
        "if not filtered_movies.empty:\n",
        "\n",
        "    actual_ratings = filtered_movies['Rating']\n",
        "\n",
        "\n",
        "    mae = mean_absolute_error(actual_ratings, predicted_ratings)\n",
        "\n",
        "    print(f\"Mean Absolute Error (MAE) for recommended ratings: {mae:.2f}\")\n",
        "else:\n",
        "    print(\"No movies found matching your criteria.\")\n"
      ],
      "metadata": {
        "colab": {
          "base_uri": "https://localhost:8080/"
        },
        "id": "u6lAPmMhQqIc",
        "outputId": "a15bb624-2541-4fe1-8ed9-5db42dd80ecf"
      },
      "execution_count": null,
      "outputs": [
        {
          "output_type": "stream",
          "name": "stdout",
          "text": [
            "Enter the desired year: 2003\n",
            "Enter the minimum rating you prefer (e.g., 5.0): 7\n",
            "Mean Absolute Error (MAE) for recommended ratings: 2.59\n"
          ]
        }
      ]
    }
  ]
}